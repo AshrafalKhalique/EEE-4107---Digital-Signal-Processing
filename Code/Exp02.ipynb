{
 "cells": [
  {
   "cell_type": "code",
   "execution_count": 3,
   "id": "38f473cf",
   "metadata": {},
   "outputs": [
    {
     "name": "stdout",
     "output_type": "stream",
     "text": [
      "[ 4 10 16 17]\n"
     ]
    },
    {
     "ename": "NameError",
     "evalue": "name 'X' is not defined",
     "output_type": "error",
     "traceback": [
      "\u001b[1;31m---------------------------------------------------------------------------\u001b[0m",
      "\u001b[1;31mNameError\u001b[0m                                 Traceback (most recent call last)",
      "Cell \u001b[1;32mIn[3], line 19\u001b[0m\n\u001b[0;32m     16\u001b[0m \u001b[38;5;28mprint\u001b[39m(corr_xy)\n\u001b[0;32m     18\u001b[0m \u001b[38;5;66;03m# Plot cross-correlation of x and y\u001b[39;00m\n\u001b[1;32m---> 19\u001b[0m px\u001b[38;5;241m.\u001b[39mscatter_3d(lags_xy\u001b[38;5;241m=\u001b[39m\u001b[43mX\u001b[49m[:,\u001b[38;5;241m0\u001b[39m],\n\u001b[0;32m     20\u001b[0m               corr_xy\u001b[38;5;241m=\u001b[39mX[:,\u001b[38;5;241m1\u001b[39m],\n\u001b[0;32m     21\u001b[0m               z\u001b[38;5;241m=\u001b[39mX[:,\u001b[38;5;241m2\u001b[39m])\n\u001b[0;32m     23\u001b[0m px\u001b[38;5;241m.\u001b[39mxlabel(\u001b[38;5;124m'\u001b[39m\u001b[38;5;124mLag\u001b[39m\u001b[38;5;124m'\u001b[39m)\n\u001b[0;32m     24\u001b[0m px\u001b[38;5;241m.\u001b[39mylabel(\u001b[38;5;124m'\u001b[39m\u001b[38;5;124mCross-correlation\u001b[39m\u001b[38;5;124m'\u001b[39m)\n",
      "\u001b[1;31mNameError\u001b[0m: name 'X' is not defined"
     ]
    }
   ],
   "source": [
    "import numpy as np\n",
    "import matplotlib.pyplot as plt\n",
    "import plotly.express as px\n",
    "\n",
    "# Generate two signals\n",
    "N = 4  # Number of samples\n",
    "#t = np.arange(N)\n",
    "#x = np.sin(2*np.pi*0.1*t)\n",
    "#y = np.sin(2*np.pi*0.5*t + np.pi/4)\n",
    "x  = [1,2,3,4]\n",
    "y = [3,2,1]\n",
    "\n",
    "# Calculate cross-correlation of x and y\n",
    "corr_xy = np.correlate(x, y, mode='same')\n",
    "lags_xy = np.arange(-N/2, N/2)\n",
    "print(corr_xy)\n",
    "\n",
    "# Plot cross-correlation of x and y\n",
    "px.scatter_3d(lags_xy=X[:,0],\n",
    "              corr_xy=X[:,1],\n",
    "              z=X[:,2])\n",
    "\n",
    "px.xlabel('Lag')\n",
    "px.ylabel('Cross-correlation')\n",
    "px.title('Cross-correlation of x and y')\n",
    "\n",
    "px.show()\n"
   ]
  },
  {
   "cell_type": "code",
   "execution_count": null,
   "id": "a85aacbf",
   "metadata": {},
   "outputs": [],
   "source": []
  },
  {
   "cell_type": "code",
   "execution_count": null,
   "id": "fa90d03f",
   "metadata": {},
   "outputs": [],
   "source": []
  }
 ],
 "metadata": {
  "kernelspec": {
   "display_name": "Python 3 (ipykernel)",
   "language": "python",
   "name": "python3"
  },
  "language_info": {
   "codemirror_mode": {
    "name": "ipython",
    "version": 3
   },
   "file_extension": ".py",
   "mimetype": "text/x-python",
   "name": "python",
   "nbconvert_exporter": "python",
   "pygments_lexer": "ipython3",
   "version": "3.10.10"
  }
 },
 "nbformat": 4,
 "nbformat_minor": 5
}
